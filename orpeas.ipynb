{
 "cells": [
  {
   "cell_type": "code",
   "execution_count": 1,
   "id": "1a2e7dfd",
   "metadata": {},
   "outputs": [
    {
     "ename": "SyntaxError",
     "evalue": "invalid syntax. Perhaps you forgot a comma? (71536044.py, line 6)",
     "output_type": "error",
     "traceback": [
      "\u001b[0;36m  Cell \u001b[0;32mIn[1], line 6\u001b[0;36m\u001b[0m\n\u001b[0;31m    [[ 31   0   0   0   0   0   0   0   0   0   0   0   0   0   0   0   0   0\u001b[0m\n\u001b[0m       ^\u001b[0m\n\u001b[0;31mSyntaxError\u001b[0m\u001b[0;31m:\u001b[0m invalid syntax. Perhaps you forgot a comma?\n"
     ]
    }
   ],
   "source": [
    "import numpy as np\n",
    "from sklearn.metrics import precision_recall_fscore_support\n",
    "\n",
    "# The provided confusion matrix\n",
    "conf_matrix = np.array([\n",
    "     [[ 31 ,  0 ,  0  , 0  , 0 ,  0  , 0 ,  0 ,  0   ,0  , 0 ,  0 ,  0,   0 ,  0 ,  0 ,  0 ,  0,\n",
    "    0  , 0 ,  0 ,  0  , 0  ,0  , 0]\n",
    " [  0 , 25   0   0   0   0   0   0   0   0   0   0   0   0   0   0   0   0\n",
    "    0   0   0   0   0   0   0]\n",
    " [  0   0 803   0   0   0   0   0   0   0   0   0   0   0   0   0   0   0\n",
    "    0   0   0   0   0   0   0]\n",
    " [  0   0   0 443   0   0   0   0   0   0   0   0   0   0   0   0   0   0\n",
    "    0   0   0   0   0   0   0]\n",
    " [  0   0   0   0  58   0   0   0   0   0   0   0   0   0   0   0   0   0\n",
    "    0   0   0   0   0   0   0]\n",
    " [  0   0   0   0   0   0   0   0   0   0   0   0   0   0   0   0   0   0\n",
    "    0   0   0   0   0   0  35]\n",
    " [  0   0   2   1   0   0  34   9   0   0   1   0   0   0   0   0   0   0\n",
    "    1   0   1   0   0   0   0]\n",
    " [  0   0   0   0   0   0   1  47   0   0   0   0   0   0   0   0   0   0\n",
    "    0   0   3   0   0   0   0]\n",
    " [  0   0   0   0   0   0   0   0  63   0   0   0   0   0   0   0   0   0\n",
    "    0   0   0   0   1   0   0]\n",
    " [  0   0   0   0   0   0   0   0   0  46   0   0   0   0   0   0   0   0\n",
    "    0   0   0   0   0   0   0]\n",
    " [  0   0   0   0   0   0   0   1   0   0  97   0   0   0   0   0   0   0\n",
    "    0   0   0   0   0   0   0]\n",
    " [  0   0   0   0   0   0   0   0   0   0   0 106   0   0   0   0   0   0\n",
    "    0   0   0   0   0   0   0]\n",
    " [  0   0   0   0   0   0   0   0   0   0   0   0  55   0   0   0   0   0\n",
    "    0   0   0   0   0   0   0]\n",
    " [  0   0   0   0   0   0   0   0   0   0   0   0   0  45   0   0   0   0\n",
    "    0   0   0   0   0   0   0]\n",
    " [  0   0   0   0   0   0   0   0   0   0   0   0   0   0  37   0   0   0\n",
    "    0   0   0   0   0   0   0]\n",
    " [  0   0   0   0   0   0   0   0   0   0   0   0   0   0   0  41   0   0\n",
    "    0   0   0   0   0   0   0]\n",
    " [  0   0   1   0   0   0   0   0   0   0   0   0   0   0   1   0  44   0\n",
    "    0   0   0   0   0   0   0]\n",
    " [  0   0   0   0   0   0   0   0   0   0   0   0   0   0   0   0   0  43\n",
    "    0   0   0   0   0   0   0]\n",
    " [  0   0   0   0   0   0   0   0   0   0   0   0   0   0   0   0   0   0\n",
    "   44   0   1   0   0   0   0]\n",
    " [  0   0   0   0   0   0   0   0   0   0   0   0   0   0   0   0   0   0\n",
    "    0  21   0   0   0   0   0]\n",
    " [  0   0   0   0   0   0   0   2   0   0   0   0   0   0   0   0   0   0\n",
    "    0   0  24   1   0   0   0]\n",
    " [  0   0   0   0   0   0   5   3   0   0   0   0   0   0   0   0   0   0\n",
    "    0   0  20  16   1   0   0]\n",
    " [  0   0   0   0   0   0   0   0   0   0   0   0   0   0   0   0   0   0\n",
    "    0   0   0   0 106   0   0]\n",
    " [  0   0   0   0   0   0   0   0   0   0   0   0   0   0   0   0   0   0\n",
    "    0   0   0   0   0  19   0]\n",
    " [  0   0   0   0   0   0   0   0   0   0   0   0   0   0   0   0   0   0\n",
    "    0   0   0   0   0   0 211]]\n",
    "])\n",
    "\n",
    "# Calculate precision, recall, and F1-score\n",
    "precision, recall, f1, _ = precision_recall_fscore_support(np.argmax(test_labels_multiclass, axis=1), predicted_labels, average='weighted')\n",
    "\n",
    "print(f\"Precision: {precision:.2f}\")\n",
    "print(f\"Recall: {recall:.2f}\")\n",
    "print(f\"F1 Score: {f1:.2f}\")"
   ]
  },
  {
   "cell_type": "code",
   "execution_count": null,
   "id": "a370478e",
   "metadata": {},
   "outputs": [],
   "source": []
  }
 ],
 "metadata": {
  "kernelspec": {
   "display_name": "Python 3 (ipykernel)",
   "language": "python",
   "name": "python3"
  },
  "language_info": {
   "codemirror_mode": {
    "name": "ipython",
    "version": 3
   },
   "file_extension": ".py",
   "mimetype": "text/x-python",
   "name": "python",
   "nbconvert_exporter": "python",
   "pygments_lexer": "ipython3",
   "version": "3.11.4"
  }
 },
 "nbformat": 4,
 "nbformat_minor": 5
}
